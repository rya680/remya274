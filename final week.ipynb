{
 "cells": [
  {
   "cell_type": "code",
   "execution_count": 7,
   "metadata": {},
   "outputs": [],
   "source": [
    "import requests\n",
    "import pandas as pd\n",
    "import numpy as np\n",
    "import folium\n",
    "from sklearn.cluster import KMeans"
   ]
  },
  {
   "cell_type": "code",
   "execution_count": 8,
   "metadata": {},
   "outputs": [
    {
     "name": "stdout",
     "output_type": "stream",
     "text": [
      "Page download successful\n"
     ]
    }
   ],
   "source": [
    "url  = \"https://en.wikipedia.org/wiki/List_of_postal_codes_of_Canada:_M\"\n",
    "page = requests.get(url)\n",
    "if page.status_code == 200:\n",
    "    print('Page download successful')\n",
    "else:\n",
    "    print('Page download error. Error code: {}'.format(page.status_code))"
   ]
  },
  {
   "cell_type": "code",
   "execution_count": 9,
   "metadata": {},
   "outputs": [
    {
     "data": {
      "text/html": [
       "<div>\n",
       "<style scoped>\n",
       "    .dataframe tbody tr th:only-of-type {\n",
       "        vertical-align: middle;\n",
       "    }\n",
       "\n",
       "    .dataframe tbody tr th {\n",
       "        vertical-align: top;\n",
       "    }\n",
       "\n",
       "    .dataframe thead th {\n",
       "        text-align: right;\n",
       "    }\n",
       "</style>\n",
       "<table border=\"1\" class=\"dataframe\">\n",
       "  <thead>\n",
       "    <tr style=\"text-align: right;\">\n",
       "      <th></th>\n",
       "      <th>Postal Code</th>\n",
       "      <th>Borough</th>\n",
       "      <th>Neighborhood</th>\n",
       "    </tr>\n",
       "  </thead>\n",
       "  <tbody>\n",
       "    <tr>\n",
       "      <td>0</td>\n",
       "      <td>M1A</td>\n",
       "      <td>NaN</td>\n",
       "      <td>NaN</td>\n",
       "    </tr>\n",
       "    <tr>\n",
       "      <td>1</td>\n",
       "      <td>M2A</td>\n",
       "      <td>NaN</td>\n",
       "      <td>NaN</td>\n",
       "    </tr>\n",
       "    <tr>\n",
       "      <td>2</td>\n",
       "      <td>M3A</td>\n",
       "      <td>North York</td>\n",
       "      <td>Parkwoods</td>\n",
       "    </tr>\n",
       "    <tr>\n",
       "      <td>3</td>\n",
       "      <td>M4A</td>\n",
       "      <td>North York</td>\n",
       "      <td>Victoria Village</td>\n",
       "    </tr>\n",
       "    <tr>\n",
       "      <td>4</td>\n",
       "      <td>M5A</td>\n",
       "      <td>Downtown Toronto</td>\n",
       "      <td>Regent Park, Harbourfront</td>\n",
       "    </tr>\n",
       "  </tbody>\n",
       "</table>\n",
       "</div>"
      ],
      "text/plain": [
       "  Postal Code           Borough               Neighborhood\n",
       "0         M1A               NaN                        NaN\n",
       "1         M2A               NaN                        NaN\n",
       "2         M3A        North York                  Parkwoods\n",
       "3         M4A        North York           Victoria Village\n",
       "4         M5A  Downtown Toronto  Regent Park, Harbourfront"
      ]
     },
     "execution_count": 9,
     "metadata": {},
     "output_type": "execute_result"
    }
   ],
   "source": [
    "df_html = pd.read_html(url, header=0, na_values = ['Not assigned'])[0]\n",
    "df_html.head()"
   ]
  },
  {
   "cell_type": "code",
   "execution_count": 11,
   "metadata": {},
   "outputs": [],
   "source": [
    "df_html.dropna(subset=['Borough'], inplace=True)\n"
   ]
  },
  {
   "cell_type": "code",
   "execution_count": 12,
   "metadata": {},
   "outputs": [
    {
     "name": "stdout",
     "output_type": "stream",
     "text": [
      "Number of rows on which Neighborhood column is empty: 0\n"
     ]
    }
   ],
   "source": [
    "#Check Neighborhood is empty but Borough exists\n",
    "n_empty_neighborhood = df_html[df_html['Neighborhood'].isna()].shape[0]\n",
    "print('Number of rows on which Neighborhood column is empty: {}'.format(n_empty_neighborhood))"
   ]
  },
  {
   "cell_type": "code",
   "execution_count": 14,
   "metadata": {},
   "outputs": [
    {
     "data": {
      "text/html": [
       "<div>\n",
       "<style scoped>\n",
       "    .dataframe tbody tr th:only-of-type {\n",
       "        vertical-align: middle;\n",
       "    }\n",
       "\n",
       "    .dataframe tbody tr th {\n",
       "        vertical-align: top;\n",
       "    }\n",
       "\n",
       "    .dataframe thead th {\n",
       "        text-align: right;\n",
       "    }\n",
       "</style>\n",
       "<table border=\"1\" class=\"dataframe\">\n",
       "  <thead>\n",
       "    <tr style=\"text-align: right;\">\n",
       "      <th></th>\n",
       "      <th>Postal Code</th>\n",
       "      <th>Borough</th>\n",
       "      <th>Neighborhood</th>\n",
       "    </tr>\n",
       "  </thead>\n",
       "  <tbody>\n",
       "  </tbody>\n",
       "</table>\n",
       "</div>"
      ],
      "text/plain": [
       "Empty DataFrame\n",
       "Columns: [Postal Code, Borough, Neighborhood]\n",
       "Index: []"
      ]
     },
     "execution_count": 14,
     "metadata": {},
     "output_type": "execute_result"
    }
   ],
   "source": [
    "df_html[df_html['Neighborhood'].isna()]"
   ]
  },
  {
   "cell_type": "code",
   "execution_count": 15,
   "metadata": {},
   "outputs": [
    {
     "data": {
      "text/html": [
       "<div>\n",
       "<style scoped>\n",
       "    .dataframe tbody tr th:only-of-type {\n",
       "        vertical-align: middle;\n",
       "    }\n",
       "\n",
       "    .dataframe tbody tr th {\n",
       "        vertical-align: top;\n",
       "    }\n",
       "\n",
       "    .dataframe thead th {\n",
       "        text-align: right;\n",
       "    }\n",
       "</style>\n",
       "<table border=\"1\" class=\"dataframe\">\n",
       "  <thead>\n",
       "    <tr style=\"text-align: right;\">\n",
       "      <th></th>\n",
       "      <th>Postal Code</th>\n",
       "      <th>Borough</th>\n",
       "      <th>Neighborhood</th>\n",
       "    </tr>\n",
       "  </thead>\n",
       "  <tbody>\n",
       "    <tr>\n",
       "      <td>0</td>\n",
       "      <td>M1B</td>\n",
       "      <td>Scarborough</td>\n",
       "      <td>Malvern, Rouge</td>\n",
       "    </tr>\n",
       "    <tr>\n",
       "      <td>1</td>\n",
       "      <td>M1C</td>\n",
       "      <td>Scarborough</td>\n",
       "      <td>Rouge Hill, Port Union, Highland Creek</td>\n",
       "    </tr>\n",
       "    <tr>\n",
       "      <td>2</td>\n",
       "      <td>M1E</td>\n",
       "      <td>Scarborough</td>\n",
       "      <td>Guildwood, Morningside, West Hill</td>\n",
       "    </tr>\n",
       "    <tr>\n",
       "      <td>3</td>\n",
       "      <td>M1G</td>\n",
       "      <td>Scarborough</td>\n",
       "      <td>Woburn</td>\n",
       "    </tr>\n",
       "    <tr>\n",
       "      <td>4</td>\n",
       "      <td>M1H</td>\n",
       "      <td>Scarborough</td>\n",
       "      <td>Cedarbrae</td>\n",
       "    </tr>\n",
       "  </tbody>\n",
       "</table>\n",
       "</div>"
      ],
      "text/plain": [
       "  Postal Code      Borough                            Neighborhood\n",
       "0         M1B  Scarborough                          Malvern, Rouge\n",
       "1         M1C  Scarborough  Rouge Hill, Port Union, Highland Creek\n",
       "2         M1E  Scarborough       Guildwood, Morningside, West Hill\n",
       "3         M1G  Scarborough                                  Woburn\n",
       "4         M1H  Scarborough                               Cedarbrae"
      ]
     },
     "execution_count": 15,
     "metadata": {},
     "output_type": "execute_result"
    }
   ],
   "source": [
    "#Group by Postcode / Borough\n",
    "df_postcodes = df_html.groupby(['Postal Code','Borough']).Neighborhood.agg([('Neighborhood', ', '.join)])\n",
    "df_postcodes.reset_index(inplace=True)\n",
    "df_postcodes.head(5)"
   ]
  },
  {
   "cell_type": "code",
   "execution_count": 16,
   "metadata": {},
   "outputs": [],
   "source": [
    "df_html.dropna(subset=['Borough'], inplace=True)"
   ]
  },
  {
   "cell_type": "code",
   "execution_count": 17,
   "metadata": {},
   "outputs": [
    {
     "name": "stdout",
     "output_type": "stream",
     "text": [
      "Number of rows on which Neighborhood column is empty: 0\n"
     ]
    }
   ],
   "source": [
    "#Check Neighborhood is empty but Borough exists\n",
    "n_empty_neighborhood = df_html[df_html['Neighborhood'].isna()].shape[0]\n",
    "print('Number of rows on which Neighborhood column is empty: {}'.format(n_empty_neighborhood))"
   ]
  },
  {
   "cell_type": "code",
   "execution_count": 18,
   "metadata": {},
   "outputs": [],
   "source": [
    "df_postcodes.to_csv('Toronto_Postcodes.csv')"
   ]
  },
  {
   "cell_type": "code",
   "execution_count": 19,
   "metadata": {},
   "outputs": [
    {
     "data": {
      "text/html": [
       "<div>\n",
       "<style scoped>\n",
       "    .dataframe tbody tr th:only-of-type {\n",
       "        vertical-align: middle;\n",
       "    }\n",
       "\n",
       "    .dataframe tbody tr th {\n",
       "        vertical-align: top;\n",
       "    }\n",
       "\n",
       "    .dataframe thead th {\n",
       "        text-align: right;\n",
       "    }\n",
       "</style>\n",
       "<table border=\"1\" class=\"dataframe\">\n",
       "  <thead>\n",
       "    <tr style=\"text-align: right;\">\n",
       "      <th></th>\n",
       "      <th>Postal Code</th>\n",
       "      <th>Borough</th>\n",
       "      <th>Neighborhood</th>\n",
       "    </tr>\n",
       "  </thead>\n",
       "  <tbody>\n",
       "    <tr>\n",
       "      <td>0</td>\n",
       "      <td>M1B</td>\n",
       "      <td>Scarborough</td>\n",
       "      <td>Malvern, Rouge</td>\n",
       "    </tr>\n",
       "    <tr>\n",
       "      <td>1</td>\n",
       "      <td>M1C</td>\n",
       "      <td>Scarborough</td>\n",
       "      <td>Rouge Hill, Port Union, Highland Creek</td>\n",
       "    </tr>\n",
       "    <tr>\n",
       "      <td>2</td>\n",
       "      <td>M1E</td>\n",
       "      <td>Scarborough</td>\n",
       "      <td>Guildwood, Morningside, West Hill</td>\n",
       "    </tr>\n",
       "    <tr>\n",
       "      <td>3</td>\n",
       "      <td>M1G</td>\n",
       "      <td>Scarborough</td>\n",
       "      <td>Woburn</td>\n",
       "    </tr>\n",
       "    <tr>\n",
       "      <td>4</td>\n",
       "      <td>M1H</td>\n",
       "      <td>Scarborough</td>\n",
       "      <td>Cedarbrae</td>\n",
       "    </tr>\n",
       "  </tbody>\n",
       "</table>\n",
       "</div>"
      ],
      "text/plain": [
       "  Postal Code      Borough                            Neighborhood\n",
       "0         M1B  Scarborough                          Malvern, Rouge\n",
       "1         M1C  Scarborough  Rouge Hill, Port Union, Highland Creek\n",
       "2         M1E  Scarborough       Guildwood, Morningside, West Hill\n",
       "3         M1G  Scarborough                                  Woburn\n",
       "4         M1H  Scarborough                               Cedarbrae"
      ]
     },
     "execution_count": 19,
     "metadata": {},
     "output_type": "execute_result"
    }
   ],
   "source": [
    "#use the previously cleaned data\n",
    "df_neighborhoods = pd.read_csv('Toronto_Postcodes.csv',index_col=[0])\n",
    "df_neighborhoods.head()"
   ]
  },
  {
   "cell_type": "code",
   "execution_count": 23,
   "metadata": {},
   "outputs": [],
   "source": [
    "# Make sure both dataframes have the same \n",
    "df_coordinates.rename(columns={'Postal Code': 'PostalCode'}, inplace=True)\n",
    "df_neighborhoods.rename(columns={'Postal Code': 'PostalCode'}, inplace=True)"
   ]
  },
  {
   "cell_type": "code",
   "execution_count": 21,
   "metadata": {},
   "outputs": [
    {
     "data": {
      "text/html": [
       "<div>\n",
       "<style scoped>\n",
       "    .dataframe tbody tr th:only-of-type {\n",
       "        vertical-align: middle;\n",
       "    }\n",
       "\n",
       "    .dataframe tbody tr th {\n",
       "        vertical-align: top;\n",
       "    }\n",
       "\n",
       "    .dataframe thead th {\n",
       "        text-align: right;\n",
       "    }\n",
       "</style>\n",
       "<table border=\"1\" class=\"dataframe\">\n",
       "  <thead>\n",
       "    <tr style=\"text-align: right;\">\n",
       "      <th></th>\n",
       "      <th>Postal Code</th>\n",
       "      <th>Latitude</th>\n",
       "      <th>Longitude</th>\n",
       "    </tr>\n",
       "  </thead>\n",
       "  <tbody>\n",
       "    <tr>\n",
       "      <td>0</td>\n",
       "      <td>M1B</td>\n",
       "      <td>43.806686</td>\n",
       "      <td>-79.194353</td>\n",
       "    </tr>\n",
       "    <tr>\n",
       "      <td>1</td>\n",
       "      <td>M1C</td>\n",
       "      <td>43.784535</td>\n",
       "      <td>-79.160497</td>\n",
       "    </tr>\n",
       "    <tr>\n",
       "      <td>2</td>\n",
       "      <td>M1E</td>\n",
       "      <td>43.763573</td>\n",
       "      <td>-79.188711</td>\n",
       "    </tr>\n",
       "    <tr>\n",
       "      <td>3</td>\n",
       "      <td>M1G</td>\n",
       "      <td>43.770992</td>\n",
       "      <td>-79.216917</td>\n",
       "    </tr>\n",
       "    <tr>\n",
       "      <td>4</td>\n",
       "      <td>M1H</td>\n",
       "      <td>43.773136</td>\n",
       "      <td>-79.239476</td>\n",
       "    </tr>\n",
       "  </tbody>\n",
       "</table>\n",
       "</div>"
      ],
      "text/plain": [
       "  Postal Code   Latitude  Longitude\n",
       "0         M1B  43.806686 -79.194353\n",
       "1         M1C  43.784535 -79.160497\n",
       "2         M1E  43.763573 -79.188711\n",
       "3         M1G  43.770992 -79.216917\n",
       "4         M1H  43.773136 -79.239476"
      ]
     },
     "execution_count": 21,
     "metadata": {},
     "output_type": "execute_result"
    }
   ],
   "source": [
    "#Read CSV file from link and load into dataframe\n",
    "url_csv = 'http://cocl.us/Geospatial_data'\n",
    "df_coordinates = pd.read_csv(url_csv)\n",
    "df_coordinates.head()"
   ]
  },
  {
   "cell_type": "code",
   "execution_count": 24,
   "metadata": {},
   "outputs": [
    {
     "data": {
      "text/html": [
       "<div>\n",
       "<style scoped>\n",
       "    .dataframe tbody tr th:only-of-type {\n",
       "        vertical-align: middle;\n",
       "    }\n",
       "\n",
       "    .dataframe tbody tr th {\n",
       "        vertical-align: top;\n",
       "    }\n",
       "\n",
       "    .dataframe thead th {\n",
       "        text-align: right;\n",
       "    }\n",
       "</style>\n",
       "<table border=\"1\" class=\"dataframe\">\n",
       "  <thead>\n",
       "    <tr style=\"text-align: right;\">\n",
       "      <th></th>\n",
       "      <th>PostalCode</th>\n",
       "      <th>Borough</th>\n",
       "      <th>Neighborhood</th>\n",
       "    </tr>\n",
       "  </thead>\n",
       "  <tbody>\n",
       "    <tr>\n",
       "      <td>0</td>\n",
       "      <td>M1B</td>\n",
       "      <td>Scarborough</td>\n",
       "      <td>Malvern, Rouge</td>\n",
       "    </tr>\n",
       "    <tr>\n",
       "      <td>1</td>\n",
       "      <td>M1C</td>\n",
       "      <td>Scarborough</td>\n",
       "      <td>Rouge Hill, Port Union, Highland Creek</td>\n",
       "    </tr>\n",
       "    <tr>\n",
       "      <td>2</td>\n",
       "      <td>M1E</td>\n",
       "      <td>Scarborough</td>\n",
       "      <td>Guildwood, Morningside, West Hill</td>\n",
       "    </tr>\n",
       "    <tr>\n",
       "      <td>3</td>\n",
       "      <td>M1G</td>\n",
       "      <td>Scarborough</td>\n",
       "      <td>Woburn</td>\n",
       "    </tr>\n",
       "    <tr>\n",
       "      <td>4</td>\n",
       "      <td>M1H</td>\n",
       "      <td>Scarborough</td>\n",
       "      <td>Cedarbrae</td>\n",
       "    </tr>\n",
       "    <tr>\n",
       "      <td>...</td>\n",
       "      <td>...</td>\n",
       "      <td>...</td>\n",
       "      <td>...</td>\n",
       "    </tr>\n",
       "    <tr>\n",
       "      <td>98</td>\n",
       "      <td>M9N</td>\n",
       "      <td>York</td>\n",
       "      <td>Weston</td>\n",
       "    </tr>\n",
       "    <tr>\n",
       "      <td>99</td>\n",
       "      <td>M9P</td>\n",
       "      <td>Etobicoke</td>\n",
       "      <td>Westmount</td>\n",
       "    </tr>\n",
       "    <tr>\n",
       "      <td>100</td>\n",
       "      <td>M9R</td>\n",
       "      <td>Etobicoke</td>\n",
       "      <td>Kingsview Village, St. Phillips, Martin Grove ...</td>\n",
       "    </tr>\n",
       "    <tr>\n",
       "      <td>101</td>\n",
       "      <td>M9V</td>\n",
       "      <td>Etobicoke</td>\n",
       "      <td>South Steeles, Silverstone, Humbergate, Jamest...</td>\n",
       "    </tr>\n",
       "    <tr>\n",
       "      <td>102</td>\n",
       "      <td>M9W</td>\n",
       "      <td>Etobicoke</td>\n",
       "      <td>Northwest, West Humber - Clairville</td>\n",
       "    </tr>\n",
       "  </tbody>\n",
       "</table>\n",
       "<p>103 rows × 3 columns</p>\n",
       "</div>"
      ],
      "text/plain": [
       "    PostalCode      Borough                                       Neighborhood\n",
       "0          M1B  Scarborough                                     Malvern, Rouge\n",
       "1          M1C  Scarborough             Rouge Hill, Port Union, Highland Creek\n",
       "2          M1E  Scarborough                  Guildwood, Morningside, West Hill\n",
       "3          M1G  Scarborough                                             Woburn\n",
       "4          M1H  Scarborough                                          Cedarbrae\n",
       "..         ...          ...                                                ...\n",
       "98         M9N         York                                             Weston\n",
       "99         M9P    Etobicoke                                          Westmount\n",
       "100        M9R    Etobicoke  Kingsview Village, St. Phillips, Martin Grove ...\n",
       "101        M9V    Etobicoke  South Steeles, Silverstone, Humbergate, Jamest...\n",
       "102        M9W    Etobicoke                Northwest, West Humber - Clairville\n",
       "\n",
       "[103 rows x 3 columns]"
      ]
     },
     "execution_count": 24,
     "metadata": {},
     "output_type": "execute_result"
    }
   ],
   "source": [
    "df_neighborhoods"
   ]
  },
  {
   "cell_type": "code",
   "execution_count": 25,
   "metadata": {},
   "outputs": [
    {
     "data": {
      "text/html": [
       "<div>\n",
       "<style scoped>\n",
       "    .dataframe tbody tr th:only-of-type {\n",
       "        vertical-align: middle;\n",
       "    }\n",
       "\n",
       "    .dataframe tbody tr th {\n",
       "        vertical-align: top;\n",
       "    }\n",
       "\n",
       "    .dataframe thead th {\n",
       "        text-align: right;\n",
       "    }\n",
       "</style>\n",
       "<table border=\"1\" class=\"dataframe\">\n",
       "  <thead>\n",
       "    <tr style=\"text-align: right;\">\n",
       "      <th></th>\n",
       "      <th>PostalCode</th>\n",
       "      <th>Borough</th>\n",
       "      <th>Neighborhood</th>\n",
       "      <th>Latitude</th>\n",
       "      <th>Longitude</th>\n",
       "    </tr>\n",
       "  </thead>\n",
       "  <tbody>\n",
       "    <tr>\n",
       "      <td>0</td>\n",
       "      <td>M1B</td>\n",
       "      <td>Scarborough</td>\n",
       "      <td>Malvern, Rouge</td>\n",
       "      <td>43.806686</td>\n",
       "      <td>-79.194353</td>\n",
       "    </tr>\n",
       "    <tr>\n",
       "      <td>1</td>\n",
       "      <td>M1C</td>\n",
       "      <td>Scarborough</td>\n",
       "      <td>Rouge Hill, Port Union, Highland Creek</td>\n",
       "      <td>43.784535</td>\n",
       "      <td>-79.160497</td>\n",
       "    </tr>\n",
       "    <tr>\n",
       "      <td>2</td>\n",
       "      <td>M1E</td>\n",
       "      <td>Scarborough</td>\n",
       "      <td>Guildwood, Morningside, West Hill</td>\n",
       "      <td>43.763573</td>\n",
       "      <td>-79.188711</td>\n",
       "    </tr>\n",
       "    <tr>\n",
       "      <td>3</td>\n",
       "      <td>M1G</td>\n",
       "      <td>Scarborough</td>\n",
       "      <td>Woburn</td>\n",
       "      <td>43.770992</td>\n",
       "      <td>-79.216917</td>\n",
       "    </tr>\n",
       "    <tr>\n",
       "      <td>4</td>\n",
       "      <td>M1H</td>\n",
       "      <td>Scarborough</td>\n",
       "      <td>Cedarbrae</td>\n",
       "      <td>43.773136</td>\n",
       "      <td>-79.239476</td>\n",
       "    </tr>\n",
       "  </tbody>\n",
       "</table>\n",
       "</div>"
      ],
      "text/plain": [
       "  PostalCode      Borough                            Neighborhood   Latitude  \\\n",
       "0        M1B  Scarborough                          Malvern, Rouge  43.806686   \n",
       "1        M1C  Scarborough  Rouge Hill, Port Union, Highland Creek  43.784535   \n",
       "2        M1E  Scarborough       Guildwood, Morningside, West Hill  43.763573   \n",
       "3        M1G  Scarborough                                  Woburn  43.770992   \n",
       "4        M1H  Scarborough                               Cedarbrae  43.773136   \n",
       "\n",
       "   Longitude  \n",
       "0 -79.194353  \n",
       "1 -79.160497  \n",
       "2 -79.188711  \n",
       "3 -79.216917  \n",
       "4 -79.239476  "
      ]
     },
     "execution_count": 25,
     "metadata": {},
     "output_type": "execute_result"
    }
   ],
   "source": [
    "# Merge both datasets\n",
    "df_neighborhoods_coordinates = pd.merge(df_neighborhoods, df_coordinates, on='PostalCode')\n",
    "df_neighborhoods_coordinates.head()"
   ]
  },
  {
   "cell_type": "code",
   "execution_count": 26,
   "metadata": {},
   "outputs": [],
   "source": [
    "#Export to .CSV\n",
    "df_neighborhoods_coordinates.to_csv('Toronto_Postcodes_2.csv')"
   ]
  },
  {
   "cell_type": "code",
   "execution_count": 27,
   "metadata": {},
   "outputs": [
    {
     "data": {
      "text/html": [
       "<div>\n",
       "<style scoped>\n",
       "    .dataframe tbody tr th:only-of-type {\n",
       "        vertical-align: middle;\n",
       "    }\n",
       "\n",
       "    .dataframe tbody tr th {\n",
       "        vertical-align: top;\n",
       "    }\n",
       "\n",
       "    .dataframe thead th {\n",
       "        text-align: right;\n",
       "    }\n",
       "</style>\n",
       "<table border=\"1\" class=\"dataframe\">\n",
       "  <thead>\n",
       "    <tr style=\"text-align: right;\">\n",
       "      <th></th>\n",
       "      <th>PostalCode</th>\n",
       "      <th>Borough</th>\n",
       "      <th>Neighborhood</th>\n",
       "      <th>Latitude</th>\n",
       "      <th>Longitude</th>\n",
       "    </tr>\n",
       "  </thead>\n",
       "  <tbody>\n",
       "    <tr>\n",
       "      <td>0</td>\n",
       "      <td>M1B</td>\n",
       "      <td>Scarborough</td>\n",
       "      <td>Malvern, Rouge</td>\n",
       "      <td>43.806686</td>\n",
       "      <td>-79.194353</td>\n",
       "    </tr>\n",
       "    <tr>\n",
       "      <td>1</td>\n",
       "      <td>M1C</td>\n",
       "      <td>Scarborough</td>\n",
       "      <td>Rouge Hill, Port Union, Highland Creek</td>\n",
       "      <td>43.784535</td>\n",
       "      <td>-79.160497</td>\n",
       "    </tr>\n",
       "    <tr>\n",
       "      <td>2</td>\n",
       "      <td>M1E</td>\n",
       "      <td>Scarborough</td>\n",
       "      <td>Guildwood, Morningside, West Hill</td>\n",
       "      <td>43.763573</td>\n",
       "      <td>-79.188711</td>\n",
       "    </tr>\n",
       "    <tr>\n",
       "      <td>3</td>\n",
       "      <td>M1G</td>\n",
       "      <td>Scarborough</td>\n",
       "      <td>Woburn</td>\n",
       "      <td>43.770992</td>\n",
       "      <td>-79.216917</td>\n",
       "    </tr>\n",
       "    <tr>\n",
       "      <td>4</td>\n",
       "      <td>M1H</td>\n",
       "      <td>Scarborough</td>\n",
       "      <td>Cedarbrae</td>\n",
       "      <td>43.773136</td>\n",
       "      <td>-79.239476</td>\n",
       "    </tr>\n",
       "  </tbody>\n",
       "</table>\n",
       "</div>"
      ],
      "text/plain": [
       "  PostalCode      Borough                            Neighborhood   Latitude  \\\n",
       "0        M1B  Scarborough                          Malvern, Rouge  43.806686   \n",
       "1        M1C  Scarborough  Rouge Hill, Port Union, Highland Creek  43.784535   \n",
       "2        M1E  Scarborough       Guildwood, Morningside, West Hill  43.763573   \n",
       "3        M1G  Scarborough                                  Woburn  43.770992   \n",
       "4        M1H  Scarborough                               Cedarbrae  43.773136   \n",
       "\n",
       "   Longitude  \n",
       "0 -79.194353  \n",
       "1 -79.160497  \n",
       "2 -79.188711  \n",
       "3 -79.216917  \n",
       "4 -79.239476  "
      ]
     },
     "execution_count": 27,
     "metadata": {},
     "output_type": "execute_result"
    }
   ],
   "source": [
    "df = pd.read_csv('Toronto_Postcodes_2.csv', index_col=0)\n",
    "df.head()"
   ]
  },
  {
   "cell_type": "code",
   "execution_count": 28,
   "metadata": {},
   "outputs": [
    {
     "name": "stdout",
     "output_type": "stream",
     "text": [
      "The dataframe has 10 boroughs and 103 neighborhoods.\n"
     ]
    }
   ],
   "source": [
    "print('The dataframe has {} boroughs and {} neighborhoods.'.format(\n",
    "        len(df['Borough'].unique()),\n",
    "        df.shape[0]\n",
    "    )\n",
    ")"
   ]
  },
  {
   "cell_type": "code",
   "execution_count": 29,
   "metadata": {},
   "outputs": [
    {
     "data": {
      "text/plain": [
       "Borough\n",
       "Central Toronto      9\n",
       "Downtown Toronto    19\n",
       "East Toronto         5\n",
       "East York            5\n",
       "Etobicoke           12\n",
       "Mississauga          1\n",
       "North York          24\n",
       "Scarborough         17\n",
       "West Toronto         6\n",
       "York                 5\n",
       "Name: Neighborhood, dtype: int64"
      ]
     },
     "execution_count": 29,
     "metadata": {},
     "output_type": "execute_result"
    }
   ],
   "source": [
    "#count Bourough and Neighborhood\n",
    "df.groupby('Borough').count()['Neighborhood']"
   ]
  },
  {
   "cell_type": "code",
   "execution_count": 30,
   "metadata": {},
   "outputs": [
    {
     "name": "stderr",
     "output_type": "stream",
     "text": [
      "C:\\Users\\HP\\Anaconda3\\lib\\site-packages\\pandas\\core\\frame.py:4102: SettingWithCopyWarning: \n",
      "A value is trying to be set on a copy of a slice from a DataFrame\n",
      "\n",
      "See the caveats in the documentation: http://pandas.pydata.org/pandas-docs/stable/user_guide/indexing.html#returning-a-view-versus-a-copy\n",
      "  errors=errors,\n"
     ]
    },
    {
     "data": {
      "text/html": [
       "<div>\n",
       "<style scoped>\n",
       "    .dataframe tbody tr th:only-of-type {\n",
       "        vertical-align: middle;\n",
       "    }\n",
       "\n",
       "    .dataframe tbody tr th {\n",
       "        vertical-align: top;\n",
       "    }\n",
       "\n",
       "    .dataframe thead th {\n",
       "        text-align: right;\n",
       "    }\n",
       "</style>\n",
       "<table border=\"1\" class=\"dataframe\">\n",
       "  <thead>\n",
       "    <tr style=\"text-align: right;\">\n",
       "      <th></th>\n",
       "      <th>PostalCode</th>\n",
       "      <th>Borough</th>\n",
       "      <th>Neighborhood</th>\n",
       "      <th>Latitude</th>\n",
       "      <th>Longitude</th>\n",
       "    </tr>\n",
       "  </thead>\n",
       "  <tbody>\n",
       "    <tr>\n",
       "      <td>0</td>\n",
       "      <td>M4E</td>\n",
       "      <td>East Toronto</td>\n",
       "      <td>The Beaches</td>\n",
       "      <td>43.676357</td>\n",
       "      <td>-79.293031</td>\n",
       "    </tr>\n",
       "    <tr>\n",
       "      <td>1</td>\n",
       "      <td>M4K</td>\n",
       "      <td>East Toronto</td>\n",
       "      <td>The Danforth West, Riverdale</td>\n",
       "      <td>43.679557</td>\n",
       "      <td>-79.352188</td>\n",
       "    </tr>\n",
       "    <tr>\n",
       "      <td>2</td>\n",
       "      <td>M4L</td>\n",
       "      <td>East Toronto</td>\n",
       "      <td>India Bazaar, The Beaches West</td>\n",
       "      <td>43.668999</td>\n",
       "      <td>-79.315572</td>\n",
       "    </tr>\n",
       "    <tr>\n",
       "      <td>3</td>\n",
       "      <td>M4M</td>\n",
       "      <td>East Toronto</td>\n",
       "      <td>Studio District</td>\n",
       "      <td>43.659526</td>\n",
       "      <td>-79.340923</td>\n",
       "    </tr>\n",
       "    <tr>\n",
       "      <td>4</td>\n",
       "      <td>M4N</td>\n",
       "      <td>Central Toronto</td>\n",
       "      <td>Lawrence Park</td>\n",
       "      <td>43.728020</td>\n",
       "      <td>-79.388790</td>\n",
       "    </tr>\n",
       "  </tbody>\n",
       "</table>\n",
       "</div>"
      ],
      "text/plain": [
       "  PostalCode          Borough                    Neighborhood   Latitude  \\\n",
       "0        M4E     East Toronto                     The Beaches  43.676357   \n",
       "1        M4K     East Toronto    The Danforth West, Riverdale  43.679557   \n",
       "2        M4L     East Toronto  India Bazaar, The Beaches West  43.668999   \n",
       "3        M4M     East Toronto                 Studio District  43.659526   \n",
       "4        M4N  Central Toronto                   Lawrence Park  43.728020   \n",
       "\n",
       "   Longitude  \n",
       "0 -79.293031  \n",
       "1 -79.352188  \n",
       "2 -79.315572  \n",
       "3 -79.340923  \n",
       "4 -79.388790  "
      ]
     },
     "execution_count": 30,
     "metadata": {},
     "output_type": "execute_result"
    }
   ],
   "source": [
    "df_toronto = df[df['Borough'].str.contains('Toronto')]\n",
    "df_toronto.reset_index(inplace=True)\n",
    "df_toronto.drop('index', axis=1, inplace=True)\n",
    "df_toronto.head()"
   ]
  },
  {
   "cell_type": "code",
   "execution_count": 31,
   "metadata": {},
   "outputs": [],
   "source": [
    "#Create list with the Boroughs (to be used later)\n",
    "boroughs = df_toronto['Borough'].unique().tolist()"
   ]
  },
  {
   "cell_type": "code",
   "execution_count": 32,
   "metadata": {},
   "outputs": [
    {
     "name": "stdout",
     "output_type": "stream",
     "text": [
      "The geographical coordinates of Toronto are 43.66713498717948, -79.38987324871795\n"
     ]
    }
   ],
   "source": [
    "#Obtain the coordinates from the dataset itself, just averaging Latitude/Longitude of the current dataset \n",
    "lat_toronto = df_toronto['Latitude'].mean()\n",
    "lon_toronto = df_toronto['Longitude'].mean()\n",
    "print('The geographical coordinates of Toronto are {}, {}'.format(lat_toronto, lon_toronto))"
   ]
  },
  {
   "cell_type": "code",
   "execution_count": 33,
   "metadata": {},
   "outputs": [],
   "source": [
    "borough_color = {}\n",
    "for borough in boroughs:\n",
    "    borough_color[borough]= '#%02X%02X%02X' % tuple(np.random.choice(range(256), size=3)) #Random color"
   ]
  },
  {
   "cell_type": "code",
   "execution_count": 34,
   "metadata": {},
   "outputs": [
    {
     "data": {
      "text/html": [
       "<div style=\"width:100%;\"><div style=\"position:relative;width:100%;height:0;padding-bottom:60%;\"><span style=\"color:#565656\">Make this Notebook Trusted to load map: File -> Trust Notebook</span><iframe src=\"about:blank\" style=\"position:absolute;width:100%;height:100%;left:0;top:0;border:none !important;\" data-html=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 onload=\"this.contentDocument.open();this.contentDocument.write(atob(this.getAttribute('data-html')));this.contentDocument.close();\" allowfullscreen webkitallowfullscreen mozallowfullscreen></iframe></div></div>"
      ],
      "text/plain": [
       "<folium.folium.Map at 0x166a5f627c8>"
      ]
     },
     "execution_count": 34,
     "metadata": {},
     "output_type": "execute_result"
    }
   ],
   "source": [
    "map_toronto = folium.Map(location=[lat_toronto, lon_toronto], zoom_start=12)\n",
    "\n",
    "# add markers to map\n",
    "for lat, lng, borough, neighborhood in zip(df_toronto['Latitude'], \n",
    "                                           df_toronto['Longitude'],\n",
    "                                           df_toronto['Borough'], \n",
    "                                           df_toronto['Neighborhood']):\n",
    "    label_text = borough + ' - ' + neighborhood\n",
    "    label = folium.Popup(label_text)\n",
    "    folium.CircleMarker(\n",
    "        [lat, lng],\n",
    "        radius=5,\n",
    "        popup=label,\n",
    "        color=borough_color[borough],\n",
    "        fill_color=borough_color[borough],\n",
    "        fill_opacity=0.7).add_to(map_toronto)  \n",
    "    \n",
    "map_toronto"
   ]
  },
  {
   "cell_type": "code",
   "execution_count": 35,
   "metadata": {},
   "outputs": [],
   "source": [
    "CLIENT_ID = '' # your Foursquare ID\n",
    "CLIENT_SECRET = '' # your Foursquare Secret\n",
    "VERSION = '20180605' # Foursquare API version\n",
    "LIMIT = 100 # limit of number of venues returned by Foursquare API\n",
    "radius = 500 # define radius"
   ]
  },
  {
   "cell_type": "code",
   "execution_count": 38,
   "metadata": {},
   "outputs": [],
   "source": [
    "def getNearbyVenues(names, latitudes, longitudes, radius=500):\n",
    "    \n",
    "    venues_list=[]\n",
    "    for name, lat, lng in zip(names, latitudes, longitudes):\n",
    "        print(name)\n",
    "            \n",
    "        # create the API request URL\n",
    "        url = 'https://api.foursquare.com/v2/venues/explore?&client_id={}&client_secret={}&v={}&ll={},{}&radius={}&limit={}'.format(\n",
    "            CLIENT_ID, \n",
    "            CLIENT_SECRET, \n",
    "            VERSION, \n",
    "            lat, \n",
    "            lng, \n",
    "            radius, \n",
    "            LIMIT)\n",
    "            \n",
    "        # make the GET request\n",
    "        results = requests.get(url).json()[\"response\"]['groups'][0]['items']\n",
    "        \n",
    "        # return only relevant information for each nearby venue\n",
    "        venues_list.append([(\n",
    "            name, \n",
    "            lat, \n",
    "            lng, \n",
    "            v['venue']['name'], \n",
    "            v['venue']['location']['lat'], \n",
    "            v['venue']['location']['lng'],  \n",
    "            v['venue']['categories'][0]['name']) for v in results])\n",
    "\n",
    "    nearby_venues = pd.DataFrame([item for venue_list in venues_list for item in venue_list])\n",
    "    nearby_venues.columns = ['Neighborhood', \n",
    "                  'Neighborhood Latitude', \n",
    "                  'Neighborhood Longitude', \n",
    "                  'Venue', \n",
    "                  'Venue Latitude', \n",
    "                  'Venue Longitude', \n",
    "                  'Venue Category']\n",
    "    \n",
    "    return(nearby_venues)"
   ]
  },
  {
   "cell_type": "code",
   "execution_count": 39,
   "metadata": {},
   "outputs": [
    {
     "name": "stdout",
     "output_type": "stream",
     "text": [
      "The Beaches\n"
     ]
    },
    {
     "ename": "KeyError",
     "evalue": "'groups'",
     "output_type": "error",
     "traceback": [
      "\u001b[1;31m---------------------------------------------------------------------------\u001b[0m",
      "\u001b[1;31mKeyError\u001b[0m                                  Traceback (most recent call last)",
      "\u001b[1;32m<ipython-input-39-8ab1ef2c4812>\u001b[0m in \u001b[0;36m<module>\u001b[1;34m\u001b[0m\n\u001b[0;32m      2\u001b[0m toronto_venues = getNearbyVenues(names=df_toronto['Neighborhood'],\n\u001b[0;32m      3\u001b[0m                                 \u001b[0mlatitudes\u001b[0m\u001b[1;33m=\u001b[0m\u001b[0mdf_toronto\u001b[0m\u001b[1;33m[\u001b[0m\u001b[1;34m'Latitude'\u001b[0m\u001b[1;33m]\u001b[0m\u001b[1;33m,\u001b[0m\u001b[1;33m\u001b[0m\u001b[1;33m\u001b[0m\u001b[0m\n\u001b[1;32m----> 4\u001b[1;33m                                 longitudes=df_toronto['Longitude'])\n\u001b[0m",
      "\u001b[1;32m<ipython-input-38-8c9a08363335>\u001b[0m in \u001b[0;36mgetNearbyVenues\u001b[1;34m(names, latitudes, longitudes, radius)\u001b[0m\n\u001b[0;32m     16\u001b[0m \u001b[1;33m\u001b[0m\u001b[0m\n\u001b[0;32m     17\u001b[0m         \u001b[1;31m# make the GET request\u001b[0m\u001b[1;33m\u001b[0m\u001b[1;33m\u001b[0m\u001b[1;33m\u001b[0m\u001b[0m\n\u001b[1;32m---> 18\u001b[1;33m         \u001b[0mresults\u001b[0m \u001b[1;33m=\u001b[0m \u001b[0mrequests\u001b[0m\u001b[1;33m.\u001b[0m\u001b[0mget\u001b[0m\u001b[1;33m(\u001b[0m\u001b[0murl\u001b[0m\u001b[1;33m)\u001b[0m\u001b[1;33m.\u001b[0m\u001b[0mjson\u001b[0m\u001b[1;33m(\u001b[0m\u001b[1;33m)\u001b[0m\u001b[1;33m[\u001b[0m\u001b[1;34m\"response\"\u001b[0m\u001b[1;33m]\u001b[0m\u001b[1;33m[\u001b[0m\u001b[1;34m'groups'\u001b[0m\u001b[1;33m]\u001b[0m\u001b[1;33m[\u001b[0m\u001b[1;36m0\u001b[0m\u001b[1;33m]\u001b[0m\u001b[1;33m[\u001b[0m\u001b[1;34m'items'\u001b[0m\u001b[1;33m]\u001b[0m\u001b[1;33m\u001b[0m\u001b[1;33m\u001b[0m\u001b[0m\n\u001b[0m\u001b[0;32m     19\u001b[0m \u001b[1;33m\u001b[0m\u001b[0m\n\u001b[0;32m     20\u001b[0m         \u001b[1;31m# return only relevant information for each nearby venue\u001b[0m\u001b[1;33m\u001b[0m\u001b[1;33m\u001b[0m\u001b[1;33m\u001b[0m\u001b[0m\n",
      "\u001b[1;31mKeyError\u001b[0m: 'groups'"
     ]
    }
   ],
   "source": [
    "#Get venues for all neighborhoods in our dataset\n",
    "toronto_venues = getNearbyVenues(names=df_toronto['Neighborhood'],\n",
    "                                latitudes=df_toronto['Latitude'],\n",
    "                                longitudes=df_toronto['Longitude'])"
   ]
  },
  {
   "cell_type": "code",
   "execution_count": 40,
   "metadata": {},
   "outputs": [
    {
     "ename": "NameError",
     "evalue": "name 'toronto_venues' is not defined",
     "output_type": "error",
     "traceback": [
      "\u001b[1;31m---------------------------------------------------------------------------\u001b[0m",
      "\u001b[1;31mNameError\u001b[0m                                 Traceback (most recent call last)",
      "\u001b[1;32m<ipython-input-40-c9c65b8059f2>\u001b[0m in \u001b[0;36m<module>\u001b[1;34m\u001b[0m\n\u001b[0;32m      1\u001b[0m \u001b[1;31m# check if the results contain \"Thai Restaurants\"\u001b[0m\u001b[1;33m\u001b[0m\u001b[1;33m\u001b[0m\u001b[1;33m\u001b[0m\u001b[0m\n\u001b[0;32m      2\u001b[0m \u001b[1;31m#please note I changed the data to Thai because I was previously writing the code using Asian but the number is so small\u001b[0m\u001b[1;33m\u001b[0m\u001b[1;33m\u001b[0m\u001b[1;33m\u001b[0m\u001b[0m\n\u001b[1;32m----> 3\u001b[1;33m \u001b[1;34m\"Thai Restaurant\"\u001b[0m \u001b[1;32min\u001b[0m \u001b[0mtoronto_venues\u001b[0m\u001b[1;33m[\u001b[0m\u001b[1;34m'Venue Category'\u001b[0m\u001b[1;33m]\u001b[0m\u001b[1;33m.\u001b[0m\u001b[0munique\u001b[0m\u001b[1;33m(\u001b[0m\u001b[1;33m)\u001b[0m\u001b[1;33m\u001b[0m\u001b[1;33m\u001b[0m\u001b[0m\n\u001b[0m",
      "\u001b[1;31mNameError\u001b[0m: name 'toronto_venues' is not defined"
     ]
    }
   ],
   "source": [
    "# check if the results contain \"Thai Restaurants\"\n",
    "#please note I changed the data to Thai because I was previously writing the code using Asian but the number is so small\n",
    "\"Thai Restaurant\" in toronto_venues['Venue Category'].unique()"
   ]
  },
  {
   "cell_type": "code",
   "execution_count": 41,
   "metadata": {},
   "outputs": [
    {
     "ename": "NameError",
     "evalue": "name 'toronto_venues' is not defined",
     "output_type": "error",
     "traceback": [
      "\u001b[1;31m---------------------------------------------------------------------------\u001b[0m",
      "\u001b[1;31mNameError\u001b[0m                                 Traceback (most recent call last)",
      "\u001b[1;32m<ipython-input-41-bca9080ddc29>\u001b[0m in \u001b[0;36m<module>\u001b[1;34m\u001b[0m\n\u001b[0;32m      1\u001b[0m \u001b[1;31m# one hot encoding\u001b[0m\u001b[1;33m\u001b[0m\u001b[1;33m\u001b[0m\u001b[1;33m\u001b[0m\u001b[0m\n\u001b[1;32m----> 2\u001b[1;33m \u001b[0mto_onehot\u001b[0m \u001b[1;33m=\u001b[0m \u001b[0mpd\u001b[0m\u001b[1;33m.\u001b[0m\u001b[0mget_dummies\u001b[0m\u001b[1;33m(\u001b[0m\u001b[0mtoronto_venues\u001b[0m\u001b[1;33m[\u001b[0m\u001b[1;33m[\u001b[0m\u001b[1;34m'Venue Category'\u001b[0m\u001b[1;33m]\u001b[0m\u001b[1;33m]\u001b[0m\u001b[1;33m,\u001b[0m \u001b[0mprefix\u001b[0m\u001b[1;33m=\u001b[0m\u001b[1;34m\"\"\u001b[0m\u001b[1;33m,\u001b[0m \u001b[0mprefix_sep\u001b[0m\u001b[1;33m=\u001b[0m\u001b[1;34m\"\"\u001b[0m\u001b[1;33m)\u001b[0m\u001b[1;33m\u001b[0m\u001b[1;33m\u001b[0m\u001b[0m\n\u001b[0m\u001b[0;32m      3\u001b[0m \u001b[1;33m\u001b[0m\u001b[0m\n\u001b[0;32m      4\u001b[0m \u001b[1;31m# add neighborhood column back to dataframe\u001b[0m\u001b[1;33m\u001b[0m\u001b[1;33m\u001b[0m\u001b[1;33m\u001b[0m\u001b[0m\n\u001b[0;32m      5\u001b[0m \u001b[0mto_onehot\u001b[0m\u001b[1;33m[\u001b[0m\u001b[1;34m'Neighborhoods'\u001b[0m\u001b[1;33m]\u001b[0m \u001b[1;33m=\u001b[0m \u001b[0mtoronto_venues\u001b[0m\u001b[1;33m[\u001b[0m\u001b[1;34m'Neighborhood'\u001b[0m\u001b[1;33m]\u001b[0m\u001b[1;33m\u001b[0m\u001b[1;33m\u001b[0m\u001b[0m\n",
      "\u001b[1;31mNameError\u001b[0m: name 'toronto_venues' is not defined"
     ]
    }
   ],
   "source": [
    "# one hot encoding\n",
    "to_onehot = pd.get_dummies(toronto_venues[['Venue Category']], prefix=\"\", prefix_sep=\"\")\n",
    "\n",
    "# add neighborhood column back to dataframe\n",
    "to_onehot['Neighborhoods'] = toronto_venues['Neighborhood'] \n",
    "\n",
    "# move neighborhood column to the first column\n",
    "fixed_columns = [to_onehot.columns[-1]] + list(to_onehot.columns[:-1])\n",
    "to_onehot = to_onehot[fixed_columns]\n",
    "\n",
    "print(to_onehot.shape)\n",
    "to_onehot.head()"
   ]
  },
  {
   "cell_type": "code",
   "execution_count": null,
   "metadata": {},
   "outputs": [],
   "source": []
  },
  {
   "cell_type": "code",
   "execution_count": null,
   "metadata": {},
   "outputs": [],
   "source": []
  }
 ],
 "metadata": {
  "kernelspec": {
   "display_name": "Python 3",
   "language": "python",
   "name": "python3"
  },
  "language_info": {
   "codemirror_mode": {
    "name": "ipython",
    "version": 3
   },
   "file_extension": ".py",
   "mimetype": "text/x-python",
   "name": "python",
   "nbconvert_exporter": "python",
   "pygments_lexer": "ipython3",
   "version": "3.7.4"
  }
 },
 "nbformat": 4,
 "nbformat_minor": 2
}
